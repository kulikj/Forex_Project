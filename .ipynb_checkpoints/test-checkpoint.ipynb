{
 "cells": [
  {
   "cell_type": "code",
   "execution_count": 2,
   "metadata": {},
   "outputs": [
    {
     "data": {
      "text/plain": [
       "{'motd': {'msg': 'If you or your company use this project or like what we doing, please consider backing us so we can continue maintaining and evolving this project.',\n",
       "  'url': 'https://exchangerate.host/#/donate'},\n",
       " 'success': True,\n",
       " 'timeseries': True,\n",
       " 'base': 'USD',\n",
       " 'start_date': '2022-11-03',\n",
       " 'end_date': '2022-01-01',\n",
       " 'rates': {}}"
      ]
     },
     "execution_count": 2,
     "metadata": {},
     "output_type": "execute_result"
    }
   ],
   "source": [
    "import requests\n",
    "from pprint import pprint\n",
    "import pandas as pd\n",
    "\n",
    "url = 'https://api.exchangerate.host/timeseries?'\n",
    "params = {'start_dte': '2021-01-01', 'end_date': '2022-01-01', 'base': 'USD'}\n",
    "response = requests.get(url, params=params)\n",
    "data = response.json()\n",
    "\n",
    "data"
   ]
  },
  {
   "cell_type": "code",
   "execution_count": 3,
   "metadata": {},
   "outputs": [],
   "source": [
    "def api_req(**kwargs):\n",
    "    '''\n",
    "    This function calls an exchange rate api and builds a df with the data\n",
    "    A list of strings (currencies) is a parameter\n",
    "    returns a transpose dataframe where the dates are the indices\n",
    "\n",
    "    Params for API call kwargs:\n",
    "        start_date [required] String format (YYYY-MM-DD)\n",
    "        end_date [required] String format (YYYY-MM-DD)\n",
    "        base. example:base=USD\n",
    "        symbols\t[optional] Enter a list of comma-separated currency codes to limit output currencies. example:symbols=USD,EUR,CZK\n",
    "        amount\t[optional] The amount to be converted. example:amount=1200\n",
    "        places\t[optional] Round numbers to decimal place. example:places=2\n",
    "    '''\n",
    "\n",
    "    params = kwargs\n",
    "    url = 'https://api.exchangerate.host/timeseries?'\n",
    "    response = requests.get(url, params=params)\n",
    "    data = response.json()\n",
    "\n",
    "    return pd.DataFrame(data['rates']).T\n",
    "\n",
    "\n",
    "# %%\n",
    "\n",
    "def merge_df_by_years(start_year, end_year, currencies=\"\"):\n",
    "    '''\n",
    "    Creates a dataframe containing the exchange rates from the start year to the end year.\n",
    "    :param start_year (int):\n",
    "    :param end_year (int):\n",
    "    :param currencies (str):\n",
    "    :return: DataFrame\n",
    "    '''\n",
    "\n",
    "    df_output = pd.DataFrame()\n",
    "    for year in range(start_year, end_year):\n",
    "        params = {\n",
    "            'start_date': f'{year}-01-01',\n",
    "            'end_date': f'{year}-12-31',\n",
    "        }\n",
    "        df_year = api_req(params)\n",
    "        df_output = pd.concat([df_output, df_year])\n",
    "    return df_output"
   ]
  },
  {
   "cell_type": "code",
   "execution_count": 4,
   "metadata": {},
   "outputs": [
    {
     "ename": "TypeError",
     "evalue": "api_req() takes 0 positional arguments but 1 was given",
     "output_type": "error",
     "traceback": [
      "\u001b[0;31m---------------------------------------------------------------------------\u001b[0m",
      "\u001b[0;31mTypeError\u001b[0m                                 Traceback (most recent call last)",
      "Input \u001b[0;32mIn [4]\u001b[0m, in \u001b[0;36m<cell line: 1>\u001b[0;34m()\u001b[0m\n\u001b[0;32m----> 1\u001b[0m \u001b[43mmerge_df_by_years\u001b[49m\u001b[43m(\u001b[49m\u001b[38;5;241;43m2015\u001b[39;49m\u001b[43m,\u001b[49m\u001b[43m \u001b[49m\u001b[38;5;241;43m2022\u001b[39;49m\u001b[43m,\u001b[49m\u001b[43m \u001b[49m\u001b[43mcurrencies\u001b[49m\u001b[38;5;241;43m=\u001b[39;49m\u001b[38;5;124;43m\"\u001b[39;49m\u001b[38;5;124;43mUSD\u001b[39;49m\u001b[38;5;124;43m\"\u001b[39;49m\u001b[43m)\u001b[49m\n",
      "Input \u001b[0;32mIn [3]\u001b[0m, in \u001b[0;36mmerge_df_by_years\u001b[0;34m(start_year, end_year, currencies)\u001b[0m\n\u001b[1;32m     36\u001b[0m \u001b[38;5;28;01mfor\u001b[39;00m year \u001b[38;5;129;01min\u001b[39;00m \u001b[38;5;28mrange\u001b[39m(start_year, end_year):\n\u001b[1;32m     37\u001b[0m     params \u001b[38;5;241m=\u001b[39m {\n\u001b[1;32m     38\u001b[0m         \u001b[38;5;124m'\u001b[39m\u001b[38;5;124mstart_date\u001b[39m\u001b[38;5;124m'\u001b[39m: \u001b[38;5;124mf\u001b[39m\u001b[38;5;124m'\u001b[39m\u001b[38;5;132;01m{\u001b[39;00myear\u001b[38;5;132;01m}\u001b[39;00m\u001b[38;5;124m-01-01\u001b[39m\u001b[38;5;124m'\u001b[39m,\n\u001b[1;32m     39\u001b[0m         \u001b[38;5;124m'\u001b[39m\u001b[38;5;124mend_date\u001b[39m\u001b[38;5;124m'\u001b[39m: \u001b[38;5;124mf\u001b[39m\u001b[38;5;124m'\u001b[39m\u001b[38;5;132;01m{\u001b[39;00myear\u001b[38;5;132;01m}\u001b[39;00m\u001b[38;5;124m-12-31\u001b[39m\u001b[38;5;124m'\u001b[39m,\n\u001b[1;32m     40\u001b[0m     }\n\u001b[0;32m---> 41\u001b[0m     df_year \u001b[38;5;241m=\u001b[39m \u001b[43mapi_req\u001b[49m\u001b[43m(\u001b[49m\u001b[43mparams\u001b[49m\u001b[43m)\u001b[49m\n\u001b[1;32m     42\u001b[0m     df_output \u001b[38;5;241m=\u001b[39m pd\u001b[38;5;241m.\u001b[39mconcat([df_output, df_year])\n\u001b[1;32m     43\u001b[0m \u001b[38;5;28;01mreturn\u001b[39;00m df_output\n",
      "\u001b[0;31mTypeError\u001b[0m: api_req() takes 0 positional arguments but 1 was given"
     ]
    }
   ],
   "source": [
    "merge_df_by_years(2015, 2022, currencies=\"USD\")"
   ]
  }
 ],
 "metadata": {
  "kernelspec": {
   "display_name": "Python 3 (ipykernel)",
   "language": "python",
   "name": "python3"
  },
  "language_info": {
   "codemirror_mode": {
    "name": "ipython",
    "version": 3
   },
   "file_extension": ".py",
   "mimetype": "text/x-python",
   "name": "python",
   "nbconvert_exporter": "python",
   "pygments_lexer": "ipython3",
   "version": "3.9.13"
  }
 },
 "nbformat": 4,
 "nbformat_minor": 1
}
