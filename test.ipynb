{
 "cells": [
  {
   "cell_type": "code",
   "execution_count": 64,
   "metadata": {
    "collapsed": true
   },
   "outputs": [
    {
     "data": {
      "text/plain": "                 EUR       GBP        RUB  USD\n2021-01-01  0.821300  0.731368  73.944993  1.0\n2021-01-02  0.824063  0.731368  73.944989  1.0\n2021-01-03  0.817388  0.731935  74.108816  1.0\n2021-01-04  0.816286  0.736620  73.532982  1.0\n2021-01-05  0.813219  0.734071  74.170118  1.0\n...              ...       ...        ...  ...\n2021-12-28  0.884210  0.744312  73.642400  1.0\n2021-12-29  0.880921  0.741268  73.951951  1.0\n2021-12-30  0.882704  0.740360  74.703970  1.0\n2021-12-31  0.879286  0.739386  74.767039  1.0\n2022-01-01  0.879665  0.739946  74.778424  1.0\n\n[366 rows x 4 columns]",
      "text/html": "<div>\n<style scoped>\n    .dataframe tbody tr th:only-of-type {\n        vertical-align: middle;\n    }\n\n    .dataframe tbody tr th {\n        vertical-align: top;\n    }\n\n    .dataframe thead th {\n        text-align: right;\n    }\n</style>\n<table border=\"1\" class=\"dataframe\">\n  <thead>\n    <tr style=\"text-align: right;\">\n      <th></th>\n      <th>EUR</th>\n      <th>GBP</th>\n      <th>RUB</th>\n      <th>USD</th>\n    </tr>\n  </thead>\n  <tbody>\n    <tr>\n      <th>2021-01-01</th>\n      <td>0.821300</td>\n      <td>0.731368</td>\n      <td>73.944993</td>\n      <td>1.0</td>\n    </tr>\n    <tr>\n      <th>2021-01-02</th>\n      <td>0.824063</td>\n      <td>0.731368</td>\n      <td>73.944989</td>\n      <td>1.0</td>\n    </tr>\n    <tr>\n      <th>2021-01-03</th>\n      <td>0.817388</td>\n      <td>0.731935</td>\n      <td>74.108816</td>\n      <td>1.0</td>\n    </tr>\n    <tr>\n      <th>2021-01-04</th>\n      <td>0.816286</td>\n      <td>0.736620</td>\n      <td>73.532982</td>\n      <td>1.0</td>\n    </tr>\n    <tr>\n      <th>2021-01-05</th>\n      <td>0.813219</td>\n      <td>0.734071</td>\n      <td>74.170118</td>\n      <td>1.0</td>\n    </tr>\n    <tr>\n      <th>...</th>\n      <td>...</td>\n      <td>...</td>\n      <td>...</td>\n      <td>...</td>\n    </tr>\n    <tr>\n      <th>2021-12-28</th>\n      <td>0.884210</td>\n      <td>0.744312</td>\n      <td>73.642400</td>\n      <td>1.0</td>\n    </tr>\n    <tr>\n      <th>2021-12-29</th>\n      <td>0.880921</td>\n      <td>0.741268</td>\n      <td>73.951951</td>\n      <td>1.0</td>\n    </tr>\n    <tr>\n      <th>2021-12-30</th>\n      <td>0.882704</td>\n      <td>0.740360</td>\n      <td>74.703970</td>\n      <td>1.0</td>\n    </tr>\n    <tr>\n      <th>2021-12-31</th>\n      <td>0.879286</td>\n      <td>0.739386</td>\n      <td>74.767039</td>\n      <td>1.0</td>\n    </tr>\n    <tr>\n      <th>2022-01-01</th>\n      <td>0.879665</td>\n      <td>0.739946</td>\n      <td>74.778424</td>\n      <td>1.0</td>\n    </tr>\n  </tbody>\n</table>\n<p>366 rows × 4 columns</p>\n</div>"
     },
     "execution_count": 64,
     "metadata": {},
     "output_type": "execute_result"
    }
   ],
   "source": [
    "import requests\n",
    "from pprint import pprint\n",
    "import pandas as pd\n",
    "\n",
    "url = 'https://api.exchangerate.host/timeseries?'\n",
    "params = {'start_date': '2021-01-01', 'end_date': '2022-01-01', 'symbols': \"EUR,USD,RUB,GBP\", 'base': 'USD'}\n",
    "response = requests.get(url, params=params)\n",
    "data = response.json()\n",
    "\n",
    "pd.DataFrame(data['rates']).T"
   ]
  }
 ],
 "metadata": {
  "kernelspec": {
   "display_name": "Python 3",
   "language": "python",
   "name": "python3"
  },
  "language_info": {
   "codemirror_mode": {
    "name": "ipython",
    "version": 2
   },
   "file_extension": ".py",
   "mimetype": "text/x-python",
   "name": "python",
   "nbconvert_exporter": "python",
   "pygments_lexer": "ipython2",
   "version": "2.7.6"
  }
 },
 "nbformat": 4,
 "nbformat_minor": 0
}
