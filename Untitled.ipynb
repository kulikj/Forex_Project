{
 "cells": [
  {
   "cell_type": "code",
   "execution_count": 6,
   "id": "61e54621",
   "metadata": {},
   "outputs": [
    {
     "name": "stdout",
     "output_type": "stream",
     "text": [
      "[{'a': 1, 'b': 2, 'c': 3, 'd': 4}, {'a': 4, 'b': 5, 'c': 6, 'd': 4}]\n"
     ]
    }
   ],
   "source": [
    "lst = [{'a':1,'b':2,'c':3}, {'a':4,'b':5,'c':6}]\n",
    "for i in range(len(lst)):\n",
    "    item[i]['d'] = item[i]['a'] + item[i]['b']\n",
    "\n",
    "#for item in lst:\n",
    "#    item['d'] = 4\n",
    "\n",
    "#print(lst)"
   ]
  },
  {
   "cell_type": "code",
   "execution_count": 14,
   "id": "d57173a1",
   "metadata": {},
   "outputs": [
    {
     "name": "stdout",
     "output_type": "stream",
     "text": [
      "On Monday, there were 1 rides that ended at Forsyth\n",
      "On Tuesday, there were 2 rides that ended at Forsyth\n"
     ]
    }
   ],
   "source": [
    "dct ={'Monday': 1, 'Tuesday': 2}\n",
    "\n",
    "for key in dct.keys():\n",
    "    print(f'On {key}, there were {dct[key]} rides that ended at Forsyth')"
   ]
  },
  {
   "cell_type": "code",
   "execution_count": null,
   "id": "05950ba9",
   "metadata": {},
   "outputs": [],
   "source": [
    "def hist(x_vals):\n",
    "    plt.bar(x_vals)\n",
    "    plt.xlabel\n",
    "\n",
    "\n",
    "dists = data_utils.get_column(trips, \"dist\")\n",
    "dist_wo_none = filter_list(dists, None)\n",
    "create_hist(dist_wo_none)"
   ]
  },
  {
   "cell_type": "code",
   "execution_count": null,
   "id": "b64eebaf",
   "metadata": {},
   "outputs": [],
   "source": [
    "forsyth = []\n",
    "for subdct in lst:\n",
    "    if subdct['end'] == 'Forsyth St ___':\n",
    "        forsyth.append(subdct)\n",
    "    "
   ]
  },
  {
   "cell_type": "code",
   "execution_count": null,
   "id": "84528b2f",
   "metadata": {},
   "outputs": [],
   "source": [
    "new_lst = extract_row(bike_id)\n",
    "for row in new_lst:\n",
    "    # plot start\n",
    "    plt.plot(stations[row['start_station']], row['start_long'], color = 'blue')\n",
    "    \n",
    "    # plot end\n",
    "    plt.plot(row['end_lat'], row['end_long'], color = 'red')"
   ]
  }
 ],
 "metadata": {
  "kernelspec": {
   "display_name": "Python 3 (ipykernel)",
   "language": "python",
   "name": "python3"
  },
  "language_info": {
   "codemirror_mode": {
    "name": "ipython",
    "version": 3
   },
   "file_extension": ".py",
   "mimetype": "text/x-python",
   "name": "python",
   "nbconvert_exporter": "python",
   "pygments_lexer": "ipython3",
   "version": "3.8.13"
  }
 },
 "nbformat": 4,
 "nbformat_minor": 5
}
