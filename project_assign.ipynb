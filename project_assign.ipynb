{
 "cells": [
  {
   "cell_type": "markdown",
   "id": "b4f2f1c6",
   "metadata": {
    "pycharm": {
     "name": "#%% md\n"
    }
   },
   "source": [
    "# Final Group Project Assignment\n",
    "\n",
    "## Dates:\n",
    "- Proposal (Each Student): October 11\n",
    "- Team Choice: October 21\n",
    "    - TA Assignment (October 24)\n",
    "- Data and Analysis Plan: November 4\n",
    "- Final Report and Presentation: December 2\n",
    "    - Statement of Contribution (Each Student): December 2\n",
    "\n",
    "The Final Group Project will be conducted in groups of two to four students and must demonstrate each group member's mastery and understanding of the course material. This understanding will be demonstrated through each step of the project. In summary, each project group will:\n",
    "\n",
    "* collect data via an API, web scraping, or merging of distinct downloaded data sets\n",
    "* develop at least two key questions of interest for which the collected data may help answer\n",
    "* clean and preprocess the data in preparation for addressing these questions\n",
    "* include at least two visualizations of the data and analysis that help in either understanding or solving the questions of interest\n",
    "* apply a machine learning or modeling method as a form of analysis to help in answering the questions of interest"
   ]
  },
  {
   "cell_type": "markdown",
   "id": "d231e138",
   "metadata": {
    "pycharm": {
     "name": "#%% md\n"
    }
   },
   "source": [
    "## Project Proposal (5\\%)\n",
    "\n",
    "### Due (Each Student): October 11\n",
    "\n",
    "Each **individual student** will submit a project proposal which:\n",
    "\n",
    "1. (2\\%) Describes and motivates a real-world problem where data science may provide helpful insights. This problem must consist of at least two key questions of interest and your description of the problem and questions should be easily understood by a casual reader. Citations to motivating sources are preferred where possible (e.g. news articles, published papers, etc. Do not use Wikipedia itself, but the links Wikipedia articles cite may be useful)\n",
    "\n",
    "2. (2\\%) Characterize the source(s) of your dataset by either:\n",
    "* Explicitly loading and showing a dataset's contents\n",
    "* Describing a data source(s) for your project (include links if applicable, or explain how the data will be collected)\n",
    "\n",
    "In either case, describe the contents, reliability, and issues you expect to encounter in collecting these data. Describe, in brief, how you intend to clean the dataset to prepare it for the analysis.\n",
    "\n",
    "* **note**: Datasets must be sufficiently technically challenging to collect/clean for full credit to be assigned. It is *not* sufficient to download one Kaggle csv for your data collection.\n",
    "3. (1\\%) Write one or two sentences about how the data will be used to solve the problem and your two questions of interest. At this point of the semester, we haven't studied the machine learning methods yet, but you should have a general idea of what you can do with ML. If you do not, ask a TA or the professor or do a little googling."
   ]
  },
  {
   "cell_type": "markdown",
   "id": "713bdddb",
   "metadata": {
    "pycharm": {
     "name": "#%% md\n"
    }
   },
   "source": [
    "## Team Choice\n",
    "\n",
    "### Due: October 21\n",
    "\n",
    "Within a few days/week of receiving all the proposals, they will be posted in a shared Google sheet for students to choose from. Every student must be in a group with at least one other student, and no more than four total students.\n",
    "\n",
    "It is possible (even likely) that you will not be able to work on either your first choice or your own project. On October 20, any student who is by themself in a group, or has not signed up to be part of a group, will receive an email providing options for choosing their group. Failure to respond to the email by the end of the next day will result in that student failing the project:\n",
    "\n",
    "* You will have an opportunity *in class* on October 21 to respond\n",
    "* Students must establish their intention to work on a project to be part of a group; otherwise it is unfair to those other students in the group to potentially be saddled with a classmate who is MIA or unwilling to participate."
   ]
  },
  {
   "cell_type": "markdown",
   "id": "f2b4a142",
   "metadata": {
    "pycharm": {
     "name": "#%% md\n"
    }
   },
   "source": [
    "## TA Assignment\n",
    "\n",
    "### By: October 24\n",
    "\n",
    "By the beginning of the next week, and the finalizing of the project groups, each group will be assigned a TA to serve as a helpful guide for the duration of the project. The TA's role is to provide feedback on the direction of the project, help answer questions (both technical and philsophical), and to serve as a liaison between the group and the professor (though groups are encouraged to reach out to the professor directly). The TAs will **not** be performing any part of data collection, cleaning, or analysis for the group."
   ]
  },
  {
   "cell_type": "markdown",
   "id": "8fc923cd",
   "metadata": {
    "pycharm": {
     "name": "#%% md\n"
    }
   },
   "source": [
    "## Data and Analysis Plan (10\\%)\n",
    "\n",
    "### Due (Each Group): November 4\n",
    "\n",
    "Each **project group** will submit a single Data and Analysis plan which:\n",
    "\n",
    "1. (.5\\%) Expresses the central motivation of the project and explains the (at least) two key questions to be explored.\n",
    "2. (1\\%) Gives a summary of the data processing pipeline so a technical expert can easily follow along.\n",
    "3. (4\\%) Obtains, cleans, and merges all data sources involved in the project.\n",
    "4. (2.5\\%) Builds at least two visualizations (graphs/plots) from the data which help to understand or answer the questions of interest. These visualizations will be graded based on how much information they can effectively communicate to readers. Please make sure your visualization are sufficiently distinct from each other.\n",
    "5. (2\\%) Discuss what machine learning tools will be used and the relevant assumptions required to apply each."
   ]
  },
  {
   "cell_type": "markdown",
   "id": "22f0335a",
   "metadata": {
    "pycharm": {
     "name": "#%% md\n"
    }
   },
   "source": [
    "## Final Report and Presentation\n",
    "\n",
    "### Both Due (Each Group): December 2\n",
    "\n",
    "#### Final Report (15\\%) \n",
    "\n",
    "Each **project group** will submit a final report made up of 6 parts:\n",
    "\n",
    "1. **Abstract** (2\\%): summarizes the main results in a paragraph of no more than 6 sentences which is easily understood by laymen. Link to the graphs or sections later in the report which support each of the claims given in the abstract.\n",
    "2. **Introduction** (2\\%): a final, polished version of Project Proposal parts 1 and 3.\n",
    "3. **Data Description** (2\\%): a final, polished version of Project Proposal part 2 as well as Data and Analysis Plan parts 2-4.\n",
    "4. **Method** (3\\%): A final, polished (and abbreviated) version of Data and Analysis Plan part 5. Additionally, this section should:\n",
    "- Convince a technical expert that the method you chose is sound. Discuss any assumptions/pitfalls of the method and how they might impact the project.\n",
    "- Educate an application expert on the broad outlines of the method you chose, providing a brief explanation of why this method is appropriate for the chosen problem.\n",
    "5. **Results** (3\\%): apply the ML method(s) of your choice, include:\n",
    "- At least one graph of the results. Any graph should be explained in simple terms and easily interpretable on its own with appropriate labelling.\n",
    "- Code and output which is clearly documented and implemented efficiently so as not to distract from the flow of the report.\n",
    "6. **Discussion** (3\\%): interpret your results in the application context. Determine if you found solutions to your questions of interest and explain why/why not. Critique your results; should they be accepted at face value or were some assumptions made inappropriate? What actions should be taken (if any) as a result of the analysis, and how confident are you in these actions? What questions that were unanticipated arose from the analysis, and what should future work/analyses focus on?\n",
    "\n",
    "#### Project Presentation (5\\%)\n",
    "\n",
    "During the final two class meetings (Dec. 2 and Dec. 6), each **project group** will present for at most 8 minutes on the results of the project.\n",
    "\n",
    "To make it fair, and ensure all groups have the same amount of time to work on the project, the presentations will be **pre-recorded videos** all due by the beginning of class on December 2.\n",
    "\n",
    "Each group member should spend approximately equivalent time on the important aspects of the project. The video should avoid repetition, and all members should be well-versed in all results and be prepared for one or two questions to be asked in class after the video is played.\n",
    "\n",
    "- **Suggestion**: the easiest way to make the video is likely to use Zoom's record feature while sharing some slides as the group members speak. Other formats for the video are welcome, but perhaps check with your TA/professor before committing to it."
   ]
  },
  {
   "cell_type": "markdown",
   "id": "162b4b92",
   "metadata": {
    "pycharm": {
     "name": "#%% md\n"
    }
   },
   "source": [
    "## Statement of Contribution\n",
    "\n",
    "### Due (Each Student): December 2\n",
    "\n",
    "In addition to the Final Report and Project Presentation video, each student must submit a Statement of Contribution which discusses (in brief) their work on the project and the work of their group members. These will be used in grading to help ensure fairness in assigned grades; if there are strongly conflicting statements from the same group, a meeting between the group members, assigned TA and the professor may be necessary before grading is complete.\n",
    "\n",
    "- **note**: please do not wait until handing the Statement of Contribution in to inform the professor of a group member not contributing. Reach out to your TA or the professor well in advance!"
   ]
  },
  {
   "cell_type": "markdown",
   "id": "1ec4006b",
   "metadata": {
    "pycharm": {
     "name": "#%% md\n"
    }
   },
   "source": [
    "### Project Admin File\n",
    "\n",
    "More general information/advice about the project can be found in the Project Admin File on Canvas."
   ]
  },
  {
   "cell_type": "code",
   "execution_count": null,
   "id": "4bc49084",
   "metadata": {
    "pycharm": {
     "name": "#%%\n"
    }
   },
   "outputs": [],
   "source": []
  }
 ],
 "metadata": {
  "kernelspec": {
   "display_name": "Python 3 (ipykernel)",
   "language": "python",
   "name": "python3"
  },
  "language_info": {
   "codemirror_mode": {
    "name": "ipython",
    "version": 3
   },
   "file_extension": ".py",
   "mimetype": "text/x-python",
   "name": "python",
   "nbconvert_exporter": "python",
   "pygments_lexer": "ipython3",
   "version": "3.9.13"
  }
 },
 "nbformat": 4,
 "nbformat_minor": 5
}